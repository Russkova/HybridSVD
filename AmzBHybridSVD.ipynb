{
  "cells": [
    {
      "cell_type": "code",
      "execution_count": null,
      "metadata": {
        "colab": {
          "base_uri": "https://localhost:8080/"
        },
        "collapsed": true,
        "id": "_BHO2GRMfj9s",
        "outputId": "893592d6-00f3-49e5-8a99-3a95e281bcfc"
      },
      "outputs": [
        {
          "output_type": "stream",
          "name": "stdout",
          "text": [
            "--2024-05-23 02:41:15--  https://raw.githubusercontent.com/Russkova/diplom/main/data_preprocessing.py\n",
            "Resolving raw.githubusercontent.com (raw.githubusercontent.com)... 185.199.108.133, 185.199.109.133, 185.199.110.133, ...\n",
            "Connecting to raw.githubusercontent.com (raw.githubusercontent.com)|185.199.108.133|:443... connected.\n",
            "HTTP request sent, awaiting response... 200 OK\n",
            "Length: 11288 (11K) [text/plain]\n",
            "Saving to: ‘data_preprocessing.py’\n",
            "\n",
            "\rdata_preprocessing.   0%[                    ]       0  --.-KB/s               \rdata_preprocessing. 100%[===================>]  11.02K  --.-KB/s    in 0s      \n",
            "\n",
            "2024-05-23 02:41:15 (91.3 MB/s) - ‘data_preprocessing.py’ saved [11288/11288]\n",
            "\n",
            "--2024-05-23 02:41:15--  https://raw.githubusercontent.com/evfro/recsys19_hybridsvd/master/scaledsvd.py\n",
            "Resolving raw.githubusercontent.com (raw.githubusercontent.com)... 185.199.108.133, 185.199.109.133, 185.199.110.133, ...\n",
            "Connecting to raw.githubusercontent.com (raw.githubusercontent.com)|185.199.108.133|:443... connected.\n",
            "HTTP request sent, awaiting response... 200 OK\n",
            "Length: 1507 (1.5K) [text/plain]\n",
            "Saving to: ‘scaledsvd.py’\n",
            "\n",
            "scaledsvd.py        100%[===================>]   1.47K  --.-KB/s    in 0s      \n",
            "\n",
            "2024-05-23 02:41:15 (20.7 MB/s) - ‘scaledsvd.py’ saved [1507/1507]\n",
            "\n",
            "Collecting lightfm\n",
            "  Downloading lightfm-1.17.tar.gz (316 kB)\n",
            "\u001b[2K     \u001b[90m━━━━━━━━━━━━━━━━━━━━━━━━━━━━━━━━━━━━━━━━\u001b[0m \u001b[32m316.4/316.4 kB\u001b[0m \u001b[31m4.1 MB/s\u001b[0m eta \u001b[36m0:00:00\u001b[0m\n",
            "\u001b[?25h  Preparing metadata (setup.py) ... \u001b[?25l\u001b[?25hdone\n",
            "Requirement already satisfied: numpy in /usr/local/lib/python3.10/dist-packages (from lightfm) (1.25.2)\n",
            "Requirement already satisfied: scipy>=0.17.0 in /usr/local/lib/python3.10/dist-packages (from lightfm) (1.11.4)\n",
            "Requirement already satisfied: requests in /usr/local/lib/python3.10/dist-packages (from lightfm) (2.31.0)\n",
            "Requirement already satisfied: scikit-learn in /usr/local/lib/python3.10/dist-packages (from lightfm) (1.2.2)\n",
            "Requirement already satisfied: charset-normalizer<4,>=2 in /usr/local/lib/python3.10/dist-packages (from requests->lightfm) (3.3.2)\n",
            "Requirement already satisfied: idna<4,>=2.5 in /usr/local/lib/python3.10/dist-packages (from requests->lightfm) (3.7)\n",
            "Requirement already satisfied: urllib3<3,>=1.21.1 in /usr/local/lib/python3.10/dist-packages (from requests->lightfm) (2.0.7)\n",
            "Requirement already satisfied: certifi>=2017.4.17 in /usr/local/lib/python3.10/dist-packages (from requests->lightfm) (2024.2.2)\n",
            "Requirement already satisfied: joblib>=1.1.1 in /usr/local/lib/python3.10/dist-packages (from scikit-learn->lightfm) (1.4.2)\n",
            "Requirement already satisfied: threadpoolctl>=2.0.0 in /usr/local/lib/python3.10/dist-packages (from scikit-learn->lightfm) (3.5.0)\n",
            "Building wheels for collected packages: lightfm\n",
            "  Building wheel for lightfm (setup.py) ... \u001b[?25l\u001b[?25hdone\n",
            "  Created wheel for lightfm: filename=lightfm-1.17-cp310-cp310-linux_x86_64.whl size=808332 sha256=a6c332e0f5435357f60650c5a4c16630b24a9d54fdc5991e1cb43690daf08546\n",
            "  Stored in directory: /root/.cache/pip/wheels/4f/9b/7e/0b256f2168511d8fa4dae4fae0200fdbd729eb424a912ad636\n",
            "Successfully built lightfm\n",
            "Installing collected packages: lightfm\n",
            "Successfully installed lightfm-1.17\n",
            "Reading package lists... Done\n",
            "Building dependency tree... Done\n",
            "Reading state information... Done\n",
            "The following additional packages will be installed:\n",
            "  libamd2 libbtf1 libcamd2 libccolamd2 libcholmod3 libcolamd2 libcxsparse3 libgraphblas-dev\n",
            "  libgraphblas6 libklu1 libldl2 libmetis5 libmongoose2 librbio2 libsliplu1 libspqr2\n",
            "  libsuitesparseconfig5 libumfpack5\n",
            "The following NEW packages will be installed:\n",
            "  libamd2 libbtf1 libcamd2 libccolamd2 libcholmod3 libcolamd2 libcxsparse3 libgraphblas-dev\n",
            "  libgraphblas6 libklu1 libldl2 libmetis5 libmongoose2 librbio2 libsliplu1 libspqr2\n",
            "  libsuitesparse-dev libsuitesparseconfig5 libumfpack5\n",
            "0 upgraded, 19 newly installed, 0 to remove and 45 not upgraded.\n",
            "Need to get 22.4 MB of archives.\n",
            "After this operation, 169 MB of additional disk space will be used.\n",
            "Get:1 http://archive.ubuntu.com/ubuntu jammy/main amd64 libsuitesparseconfig5 amd64 1:5.10.1+dfsg-4build1 [10.4 kB]\n",
            "Get:2 http://archive.ubuntu.com/ubuntu jammy/universe amd64 libamd2 amd64 1:5.10.1+dfsg-4build1 [21.6 kB]\n",
            "Get:3 http://archive.ubuntu.com/ubuntu jammy/universe amd64 libbtf1 amd64 1:5.10.1+dfsg-4build1 [12.1 kB]\n",
            "Get:4 http://archive.ubuntu.com/ubuntu jammy/universe amd64 libcamd2 amd64 1:5.10.1+dfsg-4build1 [23.3 kB]\n",
            "Get:5 http://archive.ubuntu.com/ubuntu jammy/universe amd64 libccolamd2 amd64 1:5.10.1+dfsg-4build1 [25.2 kB]\n",
            "Get:6 http://archive.ubuntu.com/ubuntu jammy/main amd64 libcolamd2 amd64 1:5.10.1+dfsg-4build1 [18.0 kB]\n",
            "Get:7 http://archive.ubuntu.com/ubuntu jammy/universe amd64 libmetis5 amd64 5.1.0.dfsg-7build2 [181 kB]\n",
            "Get:8 http://archive.ubuntu.com/ubuntu jammy/universe amd64 libcholmod3 amd64 1:5.10.1+dfsg-4build1 [346 kB]\n",
            "Get:9 http://archive.ubuntu.com/ubuntu jammy/universe amd64 libcxsparse3 amd64 1:5.10.1+dfsg-4build1 [70.8 kB]\n",
            "Get:10 http://archive.ubuntu.com/ubuntu jammy/universe amd64 libgraphblas6 amd64 6.1.4+dfsg-2 [20.1 MB]\n",
            "Get:11 http://archive.ubuntu.com/ubuntu jammy/universe amd64 libgraphblas-dev amd64 6.1.4+dfsg-2 [54.4 kB]\n",
            "Get:12 http://archive.ubuntu.com/ubuntu jammy/universe amd64 libklu1 amd64 1:5.10.1+dfsg-4build1 [77.6 kB]\n",
            "Get:13 http://archive.ubuntu.com/ubuntu jammy/universe amd64 libldl2 amd64 1:5.10.1+dfsg-4build1 [11.7 kB]\n",
            "Get:14 http://archive.ubuntu.com/ubuntu jammy/universe amd64 libmongoose2 amd64 1:5.10.1+dfsg-4build1 [33.5 kB]\n",
            "Get:15 http://archive.ubuntu.com/ubuntu jammy/universe amd64 librbio2 amd64 1:5.10.1+dfsg-4build1 [26.6 kB]\n",
            "Get:16 http://archive.ubuntu.com/ubuntu jammy/universe amd64 libsliplu1 amd64 1:5.10.1+dfsg-4build1 [37.1 kB]\n",
            "Get:17 http://archive.ubuntu.com/ubuntu jammy/universe amd64 libspqr2 amd64 1:5.10.1+dfsg-4build1 [71.6 kB]\n",
            "Get:18 http://archive.ubuntu.com/ubuntu jammy/universe amd64 libumfpack5 amd64 1:5.10.1+dfsg-4build1 [250 kB]\n",
            "Get:19 http://archive.ubuntu.com/ubuntu jammy/universe amd64 libsuitesparse-dev amd64 1:5.10.1+dfsg-4build1 [1,058 kB]\n",
            "Fetched 22.4 MB in 0s (45.0 MB/s)\n",
            "Selecting previously unselected package libsuitesparseconfig5:amd64.\n",
            "(Reading database ... 121918 files and directories currently installed.)\n",
            "Preparing to unpack .../00-libsuitesparseconfig5_1%3a5.10.1+dfsg-4build1_amd64.deb ...\n",
            "Unpacking libsuitesparseconfig5:amd64 (1:5.10.1+dfsg-4build1) ...\n",
            "Selecting previously unselected package libamd2:amd64.\n",
            "Preparing to unpack .../01-libamd2_1%3a5.10.1+dfsg-4build1_amd64.deb ...\n",
            "Unpacking libamd2:amd64 (1:5.10.1+dfsg-4build1) ...\n",
            "Selecting previously unselected package libbtf1:amd64.\n",
            "Preparing to unpack .../02-libbtf1_1%3a5.10.1+dfsg-4build1_amd64.deb ...\n",
            "Unpacking libbtf1:amd64 (1:5.10.1+dfsg-4build1) ...\n",
            "Selecting previously unselected package libcamd2:amd64.\n",
            "Preparing to unpack .../03-libcamd2_1%3a5.10.1+dfsg-4build1_amd64.deb ...\n",
            "Unpacking libcamd2:amd64 (1:5.10.1+dfsg-4build1) ...\n",
            "Selecting previously unselected package libccolamd2:amd64.\n",
            "Preparing to unpack .../04-libccolamd2_1%3a5.10.1+dfsg-4build1_amd64.deb ...\n",
            "Unpacking libccolamd2:amd64 (1:5.10.1+dfsg-4build1) ...\n",
            "Selecting previously unselected package libcolamd2:amd64.\n",
            "Preparing to unpack .../05-libcolamd2_1%3a5.10.1+dfsg-4build1_amd64.deb ...\n",
            "Unpacking libcolamd2:amd64 (1:5.10.1+dfsg-4build1) ...\n",
            "Selecting previously unselected package libmetis5:amd64.\n",
            "Preparing to unpack .../06-libmetis5_5.1.0.dfsg-7build2_amd64.deb ...\n",
            "Unpacking libmetis5:amd64 (5.1.0.dfsg-7build2) ...\n",
            "Selecting previously unselected package libcholmod3:amd64.\n",
            "Preparing to unpack .../07-libcholmod3_1%3a5.10.1+dfsg-4build1_amd64.deb ...\n",
            "Unpacking libcholmod3:amd64 (1:5.10.1+dfsg-4build1) ...\n",
            "Selecting previously unselected package libcxsparse3:amd64.\n",
            "Preparing to unpack .../08-libcxsparse3_1%3a5.10.1+dfsg-4build1_amd64.deb ...\n",
            "Unpacking libcxsparse3:amd64 (1:5.10.1+dfsg-4build1) ...\n",
            "Selecting previously unselected package libgraphblas6:amd64.\n",
            "Preparing to unpack .../09-libgraphblas6_6.1.4+dfsg-2_amd64.deb ...\n",
            "Unpacking libgraphblas6:amd64 (6.1.4+dfsg-2) ...\n",
            "Selecting previously unselected package libgraphblas-dev:amd64.\n",
            "Preparing to unpack .../10-libgraphblas-dev_6.1.4+dfsg-2_amd64.deb ...\n",
            "Unpacking libgraphblas-dev:amd64 (6.1.4+dfsg-2) ...\n",
            "Selecting previously unselected package libklu1:amd64.\n",
            "Preparing to unpack .../11-libklu1_1%3a5.10.1+dfsg-4build1_amd64.deb ...\n",
            "Unpacking libklu1:amd64 (1:5.10.1+dfsg-4build1) ...\n",
            "Selecting previously unselected package libldl2:amd64.\n",
            "Preparing to unpack .../12-libldl2_1%3a5.10.1+dfsg-4build1_amd64.deb ...\n",
            "Unpacking libldl2:amd64 (1:5.10.1+dfsg-4build1) ...\n",
            "Selecting previously unselected package libmongoose2:amd64.\n",
            "Preparing to unpack .../13-libmongoose2_1%3a5.10.1+dfsg-4build1_amd64.deb ...\n",
            "Unpacking libmongoose2:amd64 (1:5.10.1+dfsg-4build1) ...\n",
            "Selecting previously unselected package librbio2:amd64.\n",
            "Preparing to unpack .../14-librbio2_1%3a5.10.1+dfsg-4build1_amd64.deb ...\n",
            "Unpacking librbio2:amd64 (1:5.10.1+dfsg-4build1) ...\n",
            "Selecting previously unselected package libsliplu1:amd64.\n",
            "Preparing to unpack .../15-libsliplu1_1%3a5.10.1+dfsg-4build1_amd64.deb ...\n",
            "Unpacking libsliplu1:amd64 (1:5.10.1+dfsg-4build1) ...\n",
            "Selecting previously unselected package libspqr2:amd64.\n",
            "Preparing to unpack .../16-libspqr2_1%3a5.10.1+dfsg-4build1_amd64.deb ...\n",
            "Unpacking libspqr2:amd64 (1:5.10.1+dfsg-4build1) ...\n",
            "Selecting previously unselected package libumfpack5:amd64.\n",
            "Preparing to unpack .../17-libumfpack5_1%3a5.10.1+dfsg-4build1_amd64.deb ...\n",
            "Unpacking libumfpack5:amd64 (1:5.10.1+dfsg-4build1) ...\n",
            "Selecting previously unselected package libsuitesparse-dev:amd64.\n",
            "Preparing to unpack .../18-libsuitesparse-dev_1%3a5.10.1+dfsg-4build1_amd64.deb ...\n",
            "Unpacking libsuitesparse-dev:amd64 (1:5.10.1+dfsg-4build1) ...\n",
            "Setting up libgraphblas6:amd64 (6.1.4+dfsg-2) ...\n",
            "Setting up libldl2:amd64 (1:5.10.1+dfsg-4build1) ...\n",
            "Setting up libmetis5:amd64 (5.1.0.dfsg-7build2) ...\n",
            "Setting up libbtf1:amd64 (1:5.10.1+dfsg-4build1) ...\n",
            "Setting up libgraphblas-dev:amd64 (6.1.4+dfsg-2) ...\n",
            "Setting up libcxsparse3:amd64 (1:5.10.1+dfsg-4build1) ...\n",
            "Setting up libsuitesparseconfig5:amd64 (1:5.10.1+dfsg-4build1) ...\n",
            "Setting up librbio2:amd64 (1:5.10.1+dfsg-4build1) ...\n",
            "Setting up libamd2:amd64 (1:5.10.1+dfsg-4build1) ...\n",
            "Setting up libcolamd2:amd64 (1:5.10.1+dfsg-4build1) ...\n",
            "Setting up libsliplu1:amd64 (1:5.10.1+dfsg-4build1) ...\n",
            "Setting up libcamd2:amd64 (1:5.10.1+dfsg-4build1) ...\n",
            "Setting up libmongoose2:amd64 (1:5.10.1+dfsg-4build1) ...\n",
            "Setting up libklu1:amd64 (1:5.10.1+dfsg-4build1) ...\n",
            "Setting up libccolamd2:amd64 (1:5.10.1+dfsg-4build1) ...\n",
            "Setting up libcholmod3:amd64 (1:5.10.1+dfsg-4build1) ...\n",
            "Setting up libspqr2:amd64 (1:5.10.1+dfsg-4build1) ...\n",
            "Setting up libumfpack5:amd64 (1:5.10.1+dfsg-4build1) ...\n",
            "Setting up libsuitesparse-dev:amd64 (1:5.10.1+dfsg-4build1) ...\n",
            "Processing triggers for libc-bin (2.35-0ubuntu3.4) ...\n",
            "/sbin/ldconfig.real: /usr/local/lib/libtbbmalloc.so.2 is not a symbolic link\n",
            "\n",
            "/sbin/ldconfig.real: /usr/local/lib/libtbbmalloc_proxy.so.2 is not a symbolic link\n",
            "\n",
            "/sbin/ldconfig.real: /usr/local/lib/libtbb.so.12 is not a symbolic link\n",
            "\n",
            "/sbin/ldconfig.real: /usr/local/lib/libtbbbind.so.3 is not a symbolic link\n",
            "\n",
            "/sbin/ldconfig.real: /usr/local/lib/libtbbbind_2_0.so.3 is not a symbolic link\n",
            "\n",
            "/sbin/ldconfig.real: /usr/local/lib/libtbbbind_2_5.so.3 is not a symbolic link\n",
            "\n",
            "Collecting scikit-sparse\n",
            "  Downloading scikit-sparse-0.4.13.tar.gz (214 kB)\n",
            "\u001b[2K     \u001b[90m━━━━━━━━━━━━━━━━━━━━━━━━━━━━━━━━━━━━━━━━\u001b[0m \u001b[32m214.2/214.2 kB\u001b[0m \u001b[31m4.2 MB/s\u001b[0m eta \u001b[36m0:00:00\u001b[0m\n",
            "\u001b[?25h  Installing build dependencies ... \u001b[?25l\u001b[?25hdone\n",
            "  Getting requirements to build wheel ... \u001b[?25l\u001b[?25hdone\n",
            "  Preparing metadata (pyproject.toml) ... \u001b[?25l\u001b[?25hdone\n",
            "Requirement already satisfied: numpy>=1.13.3 in /usr/local/lib/python3.10/dist-packages (from scikit-sparse) (1.25.2)\n",
            "Requirement already satisfied: scipy>=0.19 in /usr/local/lib/python3.10/dist-packages (from scikit-sparse) (1.11.4)\n",
            "Building wheels for collected packages: scikit-sparse\n",
            "  Building wheel for scikit-sparse (pyproject.toml) ... \u001b[?25l\u001b[?25hdone\n",
            "  Created wheel for scikit-sparse: filename=scikit_sparse-0.4.13-cp310-cp310-linux_x86_64.whl size=716667 sha256=0b655e42e70354d773aaf6414af4a055333c34aef37b6cc3516e8b71bb53b16f\n",
            "  Stored in directory: /root/.cache/pip/wheels/6a/e8/87/96a7c182e6076ce453922d1c685afb495c97023be421bc327b\n",
            "Successfully built scikit-sparse\n",
            "Installing collected packages: scikit-sparse\n",
            "Successfully installed scikit-sparse-0.4.13\n",
            "--2024-05-23 02:42:35--  https://raw.githubusercontent.com/Russkova/diplom/main/hybrids.py\n",
            "Resolving raw.githubusercontent.com (raw.githubusercontent.com)... 185.199.111.133, 185.199.109.133, 185.199.110.133, ...\n",
            "Connecting to raw.githubusercontent.com (raw.githubusercontent.com)|185.199.111.133|:443... connected.\n",
            "HTTP request sent, awaiting response... 200 OK\n",
            "Length: 9804 (9.6K) [text/plain]\n",
            "Saving to: ‘hybrids.py’\n",
            "\n",
            "hybrids.py          100%[===================>]   9.57K  --.-KB/s    in 0s      \n",
            "\n",
            "2024-05-23 02:42:35 (95.6 MB/s) - ‘hybrids.py’ saved [9804/9804]\n",
            "\n"
          ]
        }
      ],
      "source": [
        "! wget https://raw.githubusercontent.com/Russkova/diplom/main/data_preprocessing.py -O data_preprocessing.py\n",
        "! wget https://raw.githubusercontent.com/evfro/recsys19_hybridsvd/master/scaledsvd.py -O scaledsvd.py\n",
        "\n",
        "! pip install lightfm\n",
        "!apt-get install libsuitesparse-dev\n",
        "!pip install scikit-sparse\n",
        "! wget https://raw.githubusercontent.com/Russkova/diplom/main/hybrids.py -O hybrids.py"
      ]
    },
    {
      "cell_type": "markdown",
      "metadata": {
        "id": "a1WRFEAqjMFT"
      },
      "source": []
    },
    {
      "cell_type": "code",
      "execution_count": null,
      "metadata": {
        "colab": {
          "base_uri": "https://localhost:8080/"
        },
        "id": "tJb9BcjkfpbS",
        "outputId": "52831ebb-631a-4917-e66b-5ac2b2252ce4"
      },
      "outputs": [
        {
          "output_type": "stream",
          "name": "stdout",
          "text": [
            "Collecting polara\n",
            "  Cloning https://github.com/Russkova/polara (to revision main) to /tmp/pip-install-6st4p4rb/polara_490beaaaec644d429f9b49d9e9339be0\n",
            "  Running command git clone --filter=blob:none --quiet https://github.com/Russkova/polara /tmp/pip-install-6st4p4rb/polara_490beaaaec644d429f9b49d9e9339be0\n",
            "  Resolved https://github.com/Russkova/polara to commit f42942bef0c2c2c0b344c9e93164e2e799e7176c\n",
            "  Preparing metadata (setup.py) ... \u001b[?25l\u001b[?25hdone\n",
            "Building wheels for collected packages: polara\n",
            "  Building wheel for polara (setup.py) ... \u001b[?25l\u001b[?25hdone\n",
            "  Created wheel for polara: filename=polara-0.7.2-py3-none-any.whl size=86271 sha256=b0e93b994aa4fde8700cd2d2a20707362bbb4a286e9e9f895bcb35d92fb86bb8\n",
            "  Stored in directory: /tmp/pip-ephem-wheel-cache-te59yu6w/wheels/ce/05/37/5a9c8c1d28b55ab27441755eac459c8dae32bcf6592950c761\n",
            "Successfully built polara\n",
            "Installing collected packages: polara\n",
            "Successfully installed polara-0.7.2\n"
          ]
        }
      ],
      "source": [
        "! pip install --upgrade git+https://github.com/Russkova/polara@main#egg=polara"
      ]
    },
    {
      "cell_type": "code",
      "execution_count": null,
      "metadata": {
        "colab": {
          "base_uri": "https://localhost:8080/"
        },
        "id": "VxxXtsT8fr91",
        "outputId": "ca99e84d-ff3e-41dc-ec00-23b43e591a9e"
      },
      "outputs": [
        {
          "output_type": "stream",
          "name": "stdout",
          "text": [
            "Collecting ipypb\n",
            "  Downloading ipypb-0.5.2-py3-none-any.whl (8.6 kB)\n",
            "Installing collected packages: ipypb\n",
            "Successfully installed ipypb-0.5.2\n"
          ]
        }
      ],
      "source": [
        "! pip install ipypb"
      ]
    },
    {
      "cell_type": "code",
      "execution_count": null,
      "metadata": {
        "colab": {
          "base_uri": "https://localhost:8080/"
        },
        "id": "bLDKMh7bf2J6",
        "outputId": "d676e386-75e8-40ef-cb8a-ea70676e89af"
      },
      "outputs": [
        {
          "output_type": "stream",
          "name": "stdout",
          "text": [
            "--2024-05-23 02:42:57--  https://raw.githubusercontent.com/evfro/recsys19_hybridsvd/master/data/meta_info_ml1m.csv\n",
            "Resolving raw.githubusercontent.com (raw.githubusercontent.com)... 185.199.108.133, 185.199.109.133, 185.199.110.133, ...\n",
            "Connecting to raw.githubusercontent.com (raw.githubusercontent.com)|185.199.108.133|:443... connected.\n",
            "HTTP request sent, awaiting response... 200 OK\n",
            "Length: 432261 (422K) [text/plain]\n",
            "Saving to: ‘meta_info_ml1m.csv’\n",
            "\n",
            "\rmeta_info_ml1m.csv    0%[                    ]       0  --.-KB/s               \rmeta_info_ml1m.csv  100%[===================>] 422.13K  --.-KB/s    in 0.05s   \n",
            "\n",
            "2024-05-23 02:42:57 (8.74 MB/s) - ‘meta_info_ml1m.csv’ saved [432261/432261]\n",
            "\n",
            "--2024-05-23 02:42:57--  https://raw.githubusercontent.com/evfro/recsys19_hybridsvd/master/utils.py\n",
            "Resolving raw.githubusercontent.com (raw.githubusercontent.com)... 185.199.108.133, 185.199.109.133, 185.199.110.133, ...\n",
            "Connecting to raw.githubusercontent.com (raw.githubusercontent.com)|185.199.108.133|:443... connected.\n",
            "HTTP request sent, awaiting response... 200 OK\n",
            "Length: 3773 (3.7K) [text/plain]\n",
            "Saving to: ‘utils.py’\n",
            "\n",
            "utils.py            100%[===================>]   3.68K  --.-KB/s    in 0s      \n",
            "\n",
            "2024-05-23 02:42:57 (44.5 MB/s) - ‘utils.py’ saved [3773/3773]\n",
            "\n",
            "Reading package lists... Done\n",
            "Building dependency tree... Done\n",
            "Reading state information... Done\n",
            "libsuitesparse-dev is already the newest version (1:5.10.1+dfsg-4build1).\n",
            "0 upgraded, 0 newly installed, 0 to remove and 45 not upgraded.\n",
            "Requirement already satisfied: scikit-sparse in /usr/local/lib/python3.10/dist-packages (0.4.13)\n",
            "Requirement already satisfied: numpy>=1.13.3 in /usr/local/lib/python3.10/dist-packages (from scikit-sparse) (1.25.2)\n",
            "Requirement already satisfied: scipy>=0.19 in /usr/local/lib/python3.10/dist-packages (from scikit-sparse) (1.11.4)\n",
            "--2024-05-23 02:43:13--  https://github.com/Russkova/diplom/raw/main/ml-1m.zip\n",
            "Resolving github.com (github.com)... 140.82.114.4\n",
            "Connecting to github.com (github.com)|140.82.114.4|:443... connected.\n",
            "HTTP request sent, awaiting response... 302 Found\n",
            "Location: https://raw.githubusercontent.com/Russkova/diplom/main/ml-1m.zip [following]\n",
            "--2024-05-23 02:43:13--  https://raw.githubusercontent.com/Russkova/diplom/main/ml-1m.zip\n",
            "Resolving raw.githubusercontent.com (raw.githubusercontent.com)... 185.199.108.133, 185.199.109.133, 185.199.110.133, ...\n",
            "Connecting to raw.githubusercontent.com (raw.githubusercontent.com)|185.199.108.133|:443... connected.\n",
            "HTTP request sent, awaiting response... 200 OK\n",
            "Length: 5917549 (5.6M) [application/zip]\n",
            "Saving to: ‘ml-1m.zip’\n",
            "\n",
            "ml-1m.zip           100%[===================>]   5.64M  --.-KB/s    in 0.1s    \n",
            "\n",
            "2024-05-23 02:43:13 (57.8 MB/s) - ‘ml-1m.zip’ saved [5917549/5917549]\n",
            "\n"
          ]
        }
      ],
      "source": [
        "! wget https://raw.githubusercontent.com/evfro/recsys19_hybridsvd/master/data/meta_info_ml1m.csv -O meta_info_ml1m.csv\n",
        "! wget https://raw.githubusercontent.com/evfro/recsys19_hybridsvd/master/utils.py -O utils.py\n",
        "!apt-get install libsuitesparse-dev\n",
        "!pip install scikit-sparse\n",
        "! wget https://github.com/Russkova/diplom/raw/main/ml-1m.zip -O ml-1m.zip"
      ]
    },
    {
      "cell_type": "code",
      "execution_count": null,
      "metadata": {
        "colab": {
          "base_uri": "https://localhost:8080/"
        },
        "id": "oFx9ymDDfiSb",
        "outputId": "ca3f4639-0901-42e3-e034-aece50695373"
      },
      "outputs": [
        {
          "output_type": "stream",
          "name": "stdout",
          "text": [
            "env: MKL_NUM_THREADS=16\n",
            "env: OMP_NUM_THREADS=16\n"
          ]
        }
      ],
      "source": [
        "%env MKL_NUM_THREADS=16\n",
        "%env OMP_NUM_THREADS=16"
      ]
    },
    {
      "cell_type": "code",
      "execution_count": null,
      "metadata": {
        "id": "1IYMeanSfiSg"
      },
      "outputs": [],
      "source": [
        "import numpy as np\n",
        "import pandas as pd\n",
        "from ipypb import track\n",
        "\n",
        "from polara.evaluation import evaluation_engine as ee\n",
        "from polara.evaluation.pipelines import (find_optimal_config,\n",
        "                                         set_config)\n",
        "\n",
        "from hybrids import HybridSVD, HybridSVDColdStart\n",
        "from data_preprocessing import (get_movielens_data,\n",
        "                                get_bookcrossing_data,\n",
        "                                get_similarity_data,\n",
        "                                prepare_data_model,\n",
        "                                prepare_cold_start_data_model,\n",
        "                                SimilarityDataModel)\n",
        "from utils import (report_results, save_results,\n",
        "                   apply_config, print_data_stats,\n",
        "                   save_training_time, save_cv_training_time)\n",
        "%matplotlib inline"
      ]
    },
    {
      "cell_type": "code",
      "execution_count": null,
      "metadata": {
        "id": "hNPwUz0CfiSj"
      },
      "outputs": [],
      "source": [
        "from polara.recommender import defaults\n",
        "defaults.memory_hard_limit = 10"
      ]
    },
    {
      "cell_type": "code",
      "execution_count": null,
      "metadata": {
        "id": "lt805AiefiSk"
      },
      "outputs": [],
      "source": [
        "seed = 42"
      ]
    },
    {
      "cell_type": "code",
      "execution_count": null,
      "metadata": {
        "id": "U6TfWlaofiSq"
      },
      "outputs": [],
      "source": [
        "data_labels = ['Amzb']\n",
        "svd_ranks = {'Amzb': [1, 5, 10, 15, 20, 30, 50, 60, 75, 100, 125, 150, 200, 250, 300,\n",
        "              350, 400, 500, 750, 1000]}\n",
        "hybridsvd_weights = [0.1, 0.3, 0.5, 0.7, 0.9]\n",
        "topk_values = [1, 3, 10, 20, 30]\n",
        "target_metric = 'mrr'\n",
        "data_dict = dict.fromkeys(data_labels)\n",
        "meta_dict = dict.fromkeys(data_labels)\n",
        "similarities = dict.fromkeys(data_labels)\n",
        "sim_indices = dict.fromkeys(data_labels)\n",
        "feature_idx = dict.fromkeys(data_labels)\n",
        "all_data = [data_dict, similarities, sim_indices, meta_dict]\n",
        "lbl = 'Amzb'\n"
      ]
    },
    {
      "cell_type": "code",
      "source": [
        "from google.colab import drive\n",
        "drive.mount('/content/drive')"
      ],
      "metadata": {
        "colab": {
          "base_uri": "https://localhost:8080/"
        },
        "id": "UYnh79WFEVoA",
        "outputId": "8b3d82bf-503a-41de-e2ee-ceedf0671390"
      },
      "execution_count": null,
      "outputs": [
        {
          "output_type": "stream",
          "name": "stdout",
          "text": [
            "Mounted at /content/drive\n"
          ]
        }
      ]
    },
    {
      "cell_type": "code",
      "source": [
        "train =  pd.read_csv('/content/drive/MyDrive/AMZbtrain.csv')\n",
        "test =  pd.read_csv('/content/drive/MyDrive/AMZbtest.csv')\n",
        "data =  pd.read_csv('/content/drive/MyDrive/AMZbdata.csv')\n",
        "data = data.rename(columns={'ProductId': 'itemid', 'UserNum': 'userid', 'Rating': 'rating'})\n",
        "train = train.rename(columns={'ProductId': 'itemid', 'UserNum': 'userid', 'Rating': 'rating'})\n",
        "train = train.rename(columns={'ProductId': 'itemid', 'UserNum': 'userid', 'Rating': 'rating'})"
      ],
      "metadata": {
        "id": "N6G_b1K7EcKN"
      },
      "execution_count": null,
      "outputs": []
    },
    {
      "cell_type": "code",
      "source": [
        "data_dict['Amzb'] = data"
      ],
      "metadata": {
        "id": "CZLUZYA8E9pJ"
      },
      "execution_count": null,
      "outputs": []
    },
    {
      "cell_type": "code",
      "execution_count": null,
      "metadata": {
        "id": "wvxnOAMxjmnH"
      },
      "outputs": [],
      "source": [
        "data_dict[lbl] = data_dict[lbl].sort_values(['userid', 'Timestamp'], ascending=[True, True]).reset_index(drop=True)\n",
        "train = train.sort_values(['userid', 'Timestamp'], ascending=[True, True])\n",
        "\n"
      ]
    },
    {
      "cell_type": "code",
      "source": [
        "meta_dict['Amzb'] =  pd.DataFrame()\n",
        "\n",
        "meta_dict['Amzb'].index.name = 'itemid'"
      ],
      "metadata": {
        "id": "8VT2i_91FI2c"
      },
      "execution_count": null,
      "outputs": []
    },
    {
      "cell_type": "code",
      "execution_count": null,
      "metadata": {
        "collapsed": true,
        "id": "gitQEuCWFXEP"
      },
      "outputs": [],
      "source": [
        "data_dict[lbl]\n"
      ]
    },
    {
      "cell_type": "code",
      "source": [
        "train"
      ],
      "metadata": {
        "colab": {
          "base_uri": "https://localhost:8080/",
          "height": 423
        },
        "id": "jTyfv9F370SU",
        "outputId": "1d1b4f76-0b62-4f95-bf45-22589c899530"
      },
      "execution_count": null,
      "outputs": [
        {
          "output_type": "execute_result",
          "data": {
            "text/plain": [
              "        itemid  rating   Timestamp  userid\n",
              "0        15786       0  1272844800       0\n",
              "1         7841       0  1288569600       0\n",
              "2        16097       0  1297900800       0\n",
              "3        13818       1  1299974400       0\n",
              "4         7187       1  1300233600       0\n",
              "...        ...     ...         ...     ...\n",
              "102868   16611       0  1351382400    6259\n",
              "102869   16688       1  1351382400    6259\n",
              "102870   17063       1  1351382400    6259\n",
              "102871   17333       0  1351382400    6259\n",
              "102872   17688       0  1351382400    6259\n",
              "\n",
              "[102873 rows x 4 columns]"
            ],
            "text/html": [
              "\n",
              "  <div id=\"df-a9bae178-9737-4cf0-94c7-d4e481ea459a\" class=\"colab-df-container\">\n",
              "    <div>\n",
              "<style scoped>\n",
              "    .dataframe tbody tr th:only-of-type {\n",
              "        vertical-align: middle;\n",
              "    }\n",
              "\n",
              "    .dataframe tbody tr th {\n",
              "        vertical-align: top;\n",
              "    }\n",
              "\n",
              "    .dataframe thead th {\n",
              "        text-align: right;\n",
              "    }\n",
              "</style>\n",
              "<table border=\"1\" class=\"dataframe\">\n",
              "  <thead>\n",
              "    <tr style=\"text-align: right;\">\n",
              "      <th></th>\n",
              "      <th>itemid</th>\n",
              "      <th>rating</th>\n",
              "      <th>Timestamp</th>\n",
              "      <th>userid</th>\n",
              "    </tr>\n",
              "  </thead>\n",
              "  <tbody>\n",
              "    <tr>\n",
              "      <th>0</th>\n",
              "      <td>15786</td>\n",
              "      <td>0</td>\n",
              "      <td>1272844800</td>\n",
              "      <td>0</td>\n",
              "    </tr>\n",
              "    <tr>\n",
              "      <th>1</th>\n",
              "      <td>7841</td>\n",
              "      <td>0</td>\n",
              "      <td>1288569600</td>\n",
              "      <td>0</td>\n",
              "    </tr>\n",
              "    <tr>\n",
              "      <th>2</th>\n",
              "      <td>16097</td>\n",
              "      <td>0</td>\n",
              "      <td>1297900800</td>\n",
              "      <td>0</td>\n",
              "    </tr>\n",
              "    <tr>\n",
              "      <th>3</th>\n",
              "      <td>13818</td>\n",
              "      <td>1</td>\n",
              "      <td>1299974400</td>\n",
              "      <td>0</td>\n",
              "    </tr>\n",
              "    <tr>\n",
              "      <th>4</th>\n",
              "      <td>7187</td>\n",
              "      <td>1</td>\n",
              "      <td>1300233600</td>\n",
              "      <td>0</td>\n",
              "    </tr>\n",
              "    <tr>\n",
              "      <th>...</th>\n",
              "      <td>...</td>\n",
              "      <td>...</td>\n",
              "      <td>...</td>\n",
              "      <td>...</td>\n",
              "    </tr>\n",
              "    <tr>\n",
              "      <th>102868</th>\n",
              "      <td>16611</td>\n",
              "      <td>0</td>\n",
              "      <td>1351382400</td>\n",
              "      <td>6259</td>\n",
              "    </tr>\n",
              "    <tr>\n",
              "      <th>102869</th>\n",
              "      <td>16688</td>\n",
              "      <td>1</td>\n",
              "      <td>1351382400</td>\n",
              "      <td>6259</td>\n",
              "    </tr>\n",
              "    <tr>\n",
              "      <th>102870</th>\n",
              "      <td>17063</td>\n",
              "      <td>1</td>\n",
              "      <td>1351382400</td>\n",
              "      <td>6259</td>\n",
              "    </tr>\n",
              "    <tr>\n",
              "      <th>102871</th>\n",
              "      <td>17333</td>\n",
              "      <td>0</td>\n",
              "      <td>1351382400</td>\n",
              "      <td>6259</td>\n",
              "    </tr>\n",
              "    <tr>\n",
              "      <th>102872</th>\n",
              "      <td>17688</td>\n",
              "      <td>0</td>\n",
              "      <td>1351382400</td>\n",
              "      <td>6259</td>\n",
              "    </tr>\n",
              "  </tbody>\n",
              "</table>\n",
              "<p>102873 rows × 4 columns</p>\n",
              "</div>\n",
              "    <div class=\"colab-df-buttons\">\n",
              "\n",
              "  <div class=\"colab-df-container\">\n",
              "    <button class=\"colab-df-convert\" onclick=\"convertToInteractive('df-a9bae178-9737-4cf0-94c7-d4e481ea459a')\"\n",
              "            title=\"Convert this dataframe to an interactive table.\"\n",
              "            style=\"display:none;\">\n",
              "\n",
              "  <svg xmlns=\"http://www.w3.org/2000/svg\" height=\"24px\" viewBox=\"0 -960 960 960\">\n",
              "    <path d=\"M120-120v-720h720v720H120Zm60-500h600v-160H180v160Zm220 220h160v-160H400v160Zm0 220h160v-160H400v160ZM180-400h160v-160H180v160Zm440 0h160v-160H620v160ZM180-180h160v-160H180v160Zm440 0h160v-160H620v160Z\"/>\n",
              "  </svg>\n",
              "    </button>\n",
              "\n",
              "  <style>\n",
              "    .colab-df-container {\n",
              "      display:flex;\n",
              "      gap: 12px;\n",
              "    }\n",
              "\n",
              "    .colab-df-convert {\n",
              "      background-color: #E8F0FE;\n",
              "      border: none;\n",
              "      border-radius: 50%;\n",
              "      cursor: pointer;\n",
              "      display: none;\n",
              "      fill: #1967D2;\n",
              "      height: 32px;\n",
              "      padding: 0 0 0 0;\n",
              "      width: 32px;\n",
              "    }\n",
              "\n",
              "    .colab-df-convert:hover {\n",
              "      background-color: #E2EBFA;\n",
              "      box-shadow: 0px 1px 2px rgba(60, 64, 67, 0.3), 0px 1px 3px 1px rgba(60, 64, 67, 0.15);\n",
              "      fill: #174EA6;\n",
              "    }\n",
              "\n",
              "    .colab-df-buttons div {\n",
              "      margin-bottom: 4px;\n",
              "    }\n",
              "\n",
              "    [theme=dark] .colab-df-convert {\n",
              "      background-color: #3B4455;\n",
              "      fill: #D2E3FC;\n",
              "    }\n",
              "\n",
              "    [theme=dark] .colab-df-convert:hover {\n",
              "      background-color: #434B5C;\n",
              "      box-shadow: 0px 1px 3px 1px rgba(0, 0, 0, 0.15);\n",
              "      filter: drop-shadow(0px 1px 2px rgba(0, 0, 0, 0.3));\n",
              "      fill: #FFFFFF;\n",
              "    }\n",
              "  </style>\n",
              "\n",
              "    <script>\n",
              "      const buttonEl =\n",
              "        document.querySelector('#df-a9bae178-9737-4cf0-94c7-d4e481ea459a button.colab-df-convert');\n",
              "      buttonEl.style.display =\n",
              "        google.colab.kernel.accessAllowed ? 'block' : 'none';\n",
              "\n",
              "      async function convertToInteractive(key) {\n",
              "        const element = document.querySelector('#df-a9bae178-9737-4cf0-94c7-d4e481ea459a');\n",
              "        const dataTable =\n",
              "          await google.colab.kernel.invokeFunction('convertToInteractive',\n",
              "                                                    [key], {});\n",
              "        if (!dataTable) return;\n",
              "\n",
              "        const docLinkHtml = 'Like what you see? Visit the ' +\n",
              "          '<a target=\"_blank\" href=https://colab.research.google.com/notebooks/data_table.ipynb>data table notebook</a>'\n",
              "          + ' to learn more about interactive tables.';\n",
              "        element.innerHTML = '';\n",
              "        dataTable['output_type'] = 'display_data';\n",
              "        await google.colab.output.renderOutput(dataTable, element);\n",
              "        const docLink = document.createElement('div');\n",
              "        docLink.innerHTML = docLinkHtml;\n",
              "        element.appendChild(docLink);\n",
              "      }\n",
              "    </script>\n",
              "  </div>\n",
              "\n",
              "\n",
              "<div id=\"df-39627d91-a17f-4299-a762-e00f7c94b8fa\">\n",
              "  <button class=\"colab-df-quickchart\" onclick=\"quickchart('df-39627d91-a17f-4299-a762-e00f7c94b8fa')\"\n",
              "            title=\"Suggest charts\"\n",
              "            style=\"display:none;\">\n",
              "\n",
              "<svg xmlns=\"http://www.w3.org/2000/svg\" height=\"24px\"viewBox=\"0 0 24 24\"\n",
              "     width=\"24px\">\n",
              "    <g>\n",
              "        <path d=\"M19 3H5c-1.1 0-2 .9-2 2v14c0 1.1.9 2 2 2h14c1.1 0 2-.9 2-2V5c0-1.1-.9-2-2-2zM9 17H7v-7h2v7zm4 0h-2V7h2v10zm4 0h-2v-4h2v4z\"/>\n",
              "    </g>\n",
              "</svg>\n",
              "  </button>\n",
              "\n",
              "<style>\n",
              "  .colab-df-quickchart {\n",
              "      --bg-color: #E8F0FE;\n",
              "      --fill-color: #1967D2;\n",
              "      --hover-bg-color: #E2EBFA;\n",
              "      --hover-fill-color: #174EA6;\n",
              "      --disabled-fill-color: #AAA;\n",
              "      --disabled-bg-color: #DDD;\n",
              "  }\n",
              "\n",
              "  [theme=dark] .colab-df-quickchart {\n",
              "      --bg-color: #3B4455;\n",
              "      --fill-color: #D2E3FC;\n",
              "      --hover-bg-color: #434B5C;\n",
              "      --hover-fill-color: #FFFFFF;\n",
              "      --disabled-bg-color: #3B4455;\n",
              "      --disabled-fill-color: #666;\n",
              "  }\n",
              "\n",
              "  .colab-df-quickchart {\n",
              "    background-color: var(--bg-color);\n",
              "    border: none;\n",
              "    border-radius: 50%;\n",
              "    cursor: pointer;\n",
              "    display: none;\n",
              "    fill: var(--fill-color);\n",
              "    height: 32px;\n",
              "    padding: 0;\n",
              "    width: 32px;\n",
              "  }\n",
              "\n",
              "  .colab-df-quickchart:hover {\n",
              "    background-color: var(--hover-bg-color);\n",
              "    box-shadow: 0 1px 2px rgba(60, 64, 67, 0.3), 0 1px 3px 1px rgba(60, 64, 67, 0.15);\n",
              "    fill: var(--button-hover-fill-color);\n",
              "  }\n",
              "\n",
              "  .colab-df-quickchart-complete:disabled,\n",
              "  .colab-df-quickchart-complete:disabled:hover {\n",
              "    background-color: var(--disabled-bg-color);\n",
              "    fill: var(--disabled-fill-color);\n",
              "    box-shadow: none;\n",
              "  }\n",
              "\n",
              "  .colab-df-spinner {\n",
              "    border: 2px solid var(--fill-color);\n",
              "    border-color: transparent;\n",
              "    border-bottom-color: var(--fill-color);\n",
              "    animation:\n",
              "      spin 1s steps(1) infinite;\n",
              "  }\n",
              "\n",
              "  @keyframes spin {\n",
              "    0% {\n",
              "      border-color: transparent;\n",
              "      border-bottom-color: var(--fill-color);\n",
              "      border-left-color: var(--fill-color);\n",
              "    }\n",
              "    20% {\n",
              "      border-color: transparent;\n",
              "      border-left-color: var(--fill-color);\n",
              "      border-top-color: var(--fill-color);\n",
              "    }\n",
              "    30% {\n",
              "      border-color: transparent;\n",
              "      border-left-color: var(--fill-color);\n",
              "      border-top-color: var(--fill-color);\n",
              "      border-right-color: var(--fill-color);\n",
              "    }\n",
              "    40% {\n",
              "      border-color: transparent;\n",
              "      border-right-color: var(--fill-color);\n",
              "      border-top-color: var(--fill-color);\n",
              "    }\n",
              "    60% {\n",
              "      border-color: transparent;\n",
              "      border-right-color: var(--fill-color);\n",
              "    }\n",
              "    80% {\n",
              "      border-color: transparent;\n",
              "      border-right-color: var(--fill-color);\n",
              "      border-bottom-color: var(--fill-color);\n",
              "    }\n",
              "    90% {\n",
              "      border-color: transparent;\n",
              "      border-bottom-color: var(--fill-color);\n",
              "    }\n",
              "  }\n",
              "</style>\n",
              "\n",
              "  <script>\n",
              "    async function quickchart(key) {\n",
              "      const quickchartButtonEl =\n",
              "        document.querySelector('#' + key + ' button');\n",
              "      quickchartButtonEl.disabled = true;  // To prevent multiple clicks.\n",
              "      quickchartButtonEl.classList.add('colab-df-spinner');\n",
              "      try {\n",
              "        const charts = await google.colab.kernel.invokeFunction(\n",
              "            'suggestCharts', [key], {});\n",
              "      } catch (error) {\n",
              "        console.error('Error during call to suggestCharts:', error);\n",
              "      }\n",
              "      quickchartButtonEl.classList.remove('colab-df-spinner');\n",
              "      quickchartButtonEl.classList.add('colab-df-quickchart-complete');\n",
              "    }\n",
              "    (() => {\n",
              "      let quickchartButtonEl =\n",
              "        document.querySelector('#df-39627d91-a17f-4299-a762-e00f7c94b8fa button');\n",
              "      quickchartButtonEl.style.display =\n",
              "        google.colab.kernel.accessAllowed ? 'block' : 'none';\n",
              "    })();\n",
              "  </script>\n",
              "</div>\n",
              "    </div>\n",
              "  </div>\n"
            ],
            "application/vnd.google.colaboratory.intrinsic+json": {
              "type": "dataframe",
              "variable_name": "train"
            }
          },
          "metadata": {},
          "execution_count": 24
        }
      ]
    },
    {
      "cell_type": "code",
      "execution_count": null,
      "metadata": {
        "id": "mUom980AfiSy"
      },
      "outputs": [],
      "source": [
        "similarities['Amzb'] = {'userid': None, 'itemid': None}\n",
        "sim_indices['Amzb'] = {'userid': data_dict['Amzb']['userid'].unique(), 'itemid': data_dict['Amzb']['itemid'].unique()}"
      ]
    },
    {
      "cell_type": "code",
      "source": [
        "from scipy.sparse import save_npz\n",
        "from scipy.sparse import load_npz\n",
        "file_name = '/content/drive/MyDrive/AMZbsimilarity_matrix.npz'\n",
        "\n",
        "sim_user = load_npz(file_name)"
      ],
      "metadata": {
        "id": "x6OVymE5Fjr8"
      },
      "execution_count": null,
      "outputs": []
    },
    {
      "cell_type": "code",
      "source": [
        "similarities['Amzb']['userid']=sim_user"
      ],
      "metadata": {
        "id": "iHSsjLwKF4dN"
      },
      "execution_count": null,
      "outputs": []
    },
    {
      "cell_type": "code",
      "source": [],
      "metadata": {
        "id": "eN4Ss4lv5-51"
      },
      "execution_count": null,
      "outputs": []
    },
    {
      "cell_type": "code",
      "source": [],
      "metadata": {
        "colab": {
          "base_uri": "https://localhost:8080/"
        },
        "id": "9SfjO71T6A83",
        "outputId": "39c4b425-ee70-41eb-a68d-99352efb2b3b"
      },
      "execution_count": null,
      "outputs": [
        {
          "output_type": "stream",
          "name": "stdout",
          "text": [
            "Mounted at /content/drive\n"
          ]
        }
      ]
    },
    {
      "cell_type": "code",
      "execution_count": null,
      "metadata": {
        "collapsed": true,
        "id": "zHlyfrEJW3C5"
      },
      "outputs": [],
      "source": []
    },
    {
      "cell_type": "code",
      "source": [
        "import numpy as np\n",
        "from scipy.sparse import eye, csr_matrix\n",
        "\n",
        "rows = cols = len(data_dict['Amzb']['itemid'].unique())\n",
        "matrix = eye(rows, cols, dtype=int, format='csr')\n",
        "\n",
        "print(f\"Размер матрицы: {matrix.shape}\")\n",
        "print(f\"Количество ненулевых элементов: {matrix.nnz}\")"
      ],
      "metadata": {
        "colab": {
          "base_uri": "https://localhost:8080/"
        },
        "id": "Khp80PE4UQSF",
        "outputId": "c11f5f9c-4b1e-432f-9423-b4d1fcdd9979"
      },
      "execution_count": null,
      "outputs": [
        {
          "output_type": "stream",
          "name": "stdout",
          "text": [
            "Размер матрицы: (18352, 18352)\n",
            "Количество ненулевых элементов: 18352\n"
          ]
        }
      ]
    },
    {
      "cell_type": "code",
      "source": [
        "similarities[lbl]['itemid'] = matrix\n",
        "\n"
      ],
      "metadata": {
        "id": "1LRhaJjr5D0i"
      },
      "execution_count": null,
      "outputs": []
    },
    {
      "cell_type": "code",
      "execution_count": null,
      "metadata": {
        "id": "NUx6owCNS83H"
      },
      "outputs": [],
      "source": []
    },
    {
      "cell_type": "code",
      "source": [
        "all_data"
      ],
      "metadata": {
        "colab": {
          "base_uri": "https://localhost:8080/"
        },
        "id": "f0fytB2OH19F",
        "outputId": "b95f267a-dc9e-4430-dbe5-e14a141a87c0"
      },
      "execution_count": null,
      "outputs": [
        {
          "output_type": "execute_result",
          "data": {
            "text/plain": [
              "[{'Amzb':         itemid  rating   Timestamp  userid\n",
              "  0        15786       0  1272844800       0\n",
              "  1         7841       0  1288569600       0\n",
              "  2        16097       0  1297900800       0\n",
              "  3        13818       1  1299974400       0\n",
              "  4         7187       1  1300233600       0\n",
              "  ...        ...     ...         ...     ...\n",
              "  102868   16611       0  1351382400    6259\n",
              "  102869   16688       1  1351382400    6259\n",
              "  102870   17063       1  1351382400    6259\n",
              "  102871   17333       0  1351382400    6259\n",
              "  102872   17688       0  1351382400    6259\n",
              "  \n",
              "  [102873 rows x 4 columns]},\n",
              " {'Amzb': {'userid': <6260x6260 sparse matrix of type '<class 'numpy.float32'>'\n",
              "   \twith 1855426 stored elements in Compressed Sparse Column format>,\n",
              "   'itemid': <17899x17899 sparse matrix of type '<class 'numpy.int64'>'\n",
              "   \twith 17899 stored elements in Compressed Sparse Row format>}},\n",
              " {'Amzb': {'userid': array([   0,    1,    2, ..., 6257, 6258, 6259]),\n",
              "   'itemid': array([15786,  7841, 16097, ..., 15900, 16578, 16605])}},\n",
              " {'Amzb': None}]"
            ]
          },
          "metadata": {},
          "execution_count": 32
        }
      ]
    },
    {
      "cell_type": "code",
      "source": [
        "train = train.sort_values(['userid', 'Timestamp'], ascending=[True, True])\n"
      ],
      "metadata": {
        "id": "3H6M5TFqm3xd"
      },
      "execution_count": null,
      "outputs": []
    },
    {
      "cell_type": "code",
      "execution_count": null,
      "metadata": {
        "id": "ZVfvAJbKfiS5"
      },
      "outputs": [],
      "source": [
        "\n",
        "\n",
        "def fine_tune_hybridsvd(model, ranks, weights, label, record_time=False):\n",
        "    param_grid = [(w, r) for w in weights for r in reversed(list(sorted(ranks)))]\n",
        "    param_names = ('features_weight', 'rank')\n",
        "    best_svd_config, svd_scores = find_optimal_config(model, param_grid, param_names,\n",
        "                                                      target_metric,\n",
        "                                                      return_scores=True,\n",
        "                                                      force_build=False,\n",
        "                                                      iterator=lambda x: track(x, label=label))\n",
        "    model_config = {model.method: dict(zip(param_names, best_svd_config))}\n",
        "    model_scores = {model.method: svd_scores}\n",
        "    try:\n",
        "        if record_time:\n",
        "            max_rank = max(ranks)\n",
        "            save_training_time(f'{experiment_name}_rank_{max_rank}', model, svd_scores.xs(max_rank, level='rank').index, label)\n",
        "    finally:\n",
        "        return model_config, model_scores\n",
        "    return model_config, model_scores\n",
        "def prepare_data_model_last_rating_hold(data_label, raw_data, similarities, sim_indices, item_meta, seed=0, feedback=None, custom_order='timestamp'):\n",
        "    userid = 'userid'\n",
        "    itemid = item_meta[data_label].index.name\n",
        "    data_model = SimilarityDataModel(similarities[data_label],\n",
        "                                     sim_indices[data_label],\n",
        "                                     raw_data[data_label],\n",
        "                                     userid, itemid,\n",
        "                                     feedback=feedback,\n",
        "                                     seed=seed)\n",
        "    data_model.test_fold = 0\n",
        "    data_model.test_ratio = 0\n",
        "    data_model.holdout_size = 1\n",
        "    data_model._custom_order  = custom_order\n",
        "    data_model.random_holdout = False\n",
        "    data_model.warm_start = False\n",
        "    data_model.verbose = False\n",
        "    data_model.prepare()\n",
        "    return data_model"
      ]
    },
    {
      "cell_type": "code",
      "execution_count": null,
      "metadata": {
        "id": "Z4xmLlXlfiS6"
      },
      "outputs": [],
      "source": [
        "config = {}\n",
        "scores = {}\n",
        "data_models = {}"
      ]
    },
    {
      "cell_type": "code",
      "execution_count": null,
      "metadata": {
        "colab": {
          "base_uri": "https://localhost:8080/"
        },
        "id": "r8raqmfUaZ7b",
        "outputId": "2bb1e61d-d2b0-484c-a977-3904e6aa2a7d"
      },
      "outputs": [
        {
          "output_type": "execute_result",
          "data": {
            "text/plain": [
              "{'userid': <6260x6260 sparse matrix of type '<class 'numpy.float32'>'\n",
              " \twith 1855426 stored elements in Compressed Sparse Column format>,\n",
              " 'itemid': <3522x3522 sparse matrix of type '<class 'numpy.int64'>'\n",
              " \twith 3522 stored elements in Compressed Sparse Row format>}"
            ]
          },
          "metadata": {},
          "execution_count": 41
        }
      ],
      "source": [
        "similarities[lbl]"
      ]
    },
    {
      "cell_type": "code",
      "source": [
        "meta_dict['Amzb'].index.name"
      ],
      "metadata": {
        "colab": {
          "base_uri": "https://localhost:8080/",
          "height": 35
        },
        "id": "7VnuGLM2G27J",
        "outputId": "a66e9dcb-41c6-4762-ca5b-307b02127e7a"
      },
      "execution_count": null,
      "outputs": [
        {
          "output_type": "execute_result",
          "data": {
            "text/plain": [
              "'itemid'"
            ],
            "application/vnd.google.colaboratory.intrinsic+json": {
              "type": "string"
            }
          },
          "metadata": {},
          "execution_count": 44
        }
      ]
    },
    {
      "cell_type": "code",
      "source": [
        "data_dict[lbl] = data_dict[lbl].sort_values(['userid', 'timestamp'], ascending=[True, False])\n",
        "data = data_dict[lbl]"
      ],
      "metadata": {
        "id": "we6LXo_YnVtn"
      },
      "execution_count": null,
      "outputs": []
    },
    {
      "cell_type": "code",
      "execution_count": null,
      "metadata": {
        "colab": {
          "base_uri": "https://localhost:8080/",
          "height": 226
        },
        "id": "8ehywvABfiS6",
        "outputId": "8a7eee1e-1495-4255-fb48-0b4b1c75ed85"
      },
      "outputs": [
        {
          "output_type": "display_data",
          "data": {
            "text/plain": [
              "\u001b[A\u001b[A\u001b[2K\r [████████████████████████████████████████████████████████████] 1/1 [38:27<38:27, 2306.80s/it]\u001b[B"
            ],
            "text/html": [
              "<div><span class=\"Text-label\" style=\"display:inline-block; overflow:hidden; white-space:nowrap; text-overflow:ellipsis; min-width:0; max-width:15ex; vertical-align:middle; text-align:right\"></span>\n",
              "<progress style=\"width:60ex\" max=\"1\" value=\"1\" class=\"Progress-main\"/></progress>\n",
              "<span class=\"Progress-label\"><strong>100%</strong></span>\n",
              "<span class=\"Iteration-label\">1/1</span>\n",
              "<span class=\"Time-label\">[38:27<38:27, 2306.80s/it]</span></div>"
            ]
          },
          "metadata": {}
        },
        {
          "output_type": "display_data",
          "data": {
            "text/plain": [
              "\u001b[A\u001b[2K\r           Amzb [█████████████████████████████████████████████] 100/100 [38:21<00:02, 23.01s/it]"
            ],
            "text/html": [
              "<div><span class=\"Text-label\" style=\"display:inline-block; overflow:hidden; white-space:nowrap; text-overflow:ellipsis; min-width:15ex; max-width:15ex; vertical-align:middle; text-align:right\">Amzb</span>\n",
              "<progress style=\"width:45ex\" max=\"100\" value=\"100\" class=\"Progress-main\"/></progress>\n",
              "<span class=\"Progress-label\"><strong>100%</strong></span>\n",
              "<span class=\"Iteration-label\">100/100</span>\n",
              "<span class=\"Time-label\">[38:21<00:02, 23.01s/it]</span></div>"
            ]
          },
          "metadata": {}
        },
        {
          "output_type": "stream",
          "name": "stderr",
          "text": [
            "/content/hybrids.py:121: CholmodTypeConversionWarning: converting matrix of class csr_matrix to CSC format\n",
            "  self._cholesky[entity] = CholeskyFactor(cholesky_decomp(entity_similarity, beta=beta))\n",
            "/content/hybrids.py:52: CholmodTypeConversionWarning: converting matrix of class csr_matrix to CSC format\n",
            "  self._factor.cholesky_inplace(A, beta=beta)\n",
            "/content/hybrids.py:52: CholmodTypeConversionWarning: converting matrix of class csr_matrix to CSC format\n",
            "  self._factor.cholesky_inplace(A, beta=beta)\n",
            "/content/hybrids.py:52: CholmodTypeConversionWarning: converting matrix of class csr_matrix to CSC format\n",
            "  self._factor.cholesky_inplace(A, beta=beta)\n",
            "/content/hybrids.py:52: CholmodTypeConversionWarning: converting matrix of class csr_matrix to CSC format\n",
            "  self._factor.cholesky_inplace(A, beta=beta)\n"
          ]
        }
      ],
      "source": [
        "for label in track(data_labels):\n",
        "    data_models[label] = prepare_data_model_last_rating_hold(label, *all_data, seed, custom_order='Timestamp')\n",
        "    config[label], scores[label] = fine_tune_hybridsvd(HybridSVD(data_models[label]),\n",
        "                                                       svd_ranks[label],\n",
        "                                                       hybridsvd_weights,\n",
        "                                                       label, record_time=True)"
      ]
    },
    {
      "cell_type": "code",
      "execution_count": null,
      "metadata": {
        "colab": {
          "base_uri": "https://localhost:8080/",
          "height": 472
        },
        "id": "DpbJfpB9fiS7",
        "outputId": "39388d37-cd3e-46f0-e326-270207fd06a0"
      },
      "outputs": [
        {
          "output_type": "display_data",
          "data": {
            "text/plain": [
              "<Figure size 640x480 with 1 Axes>"
            ],
            "image/png": "[encoded data removed]"
          },
          "metadata": {}
        }
      ],
      "source": [
        "report_results('rank', scores);"
      ]
    },
    {
      "cell_type": "code",
      "execution_count": null,
      "metadata": {
        "colab": {
          "base_uri": "https://localhost:8080/"
        },
        "id": "JJpvz4SrfiS7",
        "outputId": "bd39a120-2d2e-4f38-de90-f5c63d5629aa"
      },
      "outputs": [
        {
          "output_type": "execute_result",
          "data": {
            "text/plain": [
              "{'Amzb': {'HybridSVD': {'features_weight': 0.9, 'rank': 1000}}}"
            ]
          },
          "metadata": {},
          "execution_count": 54
        }
      ],
      "source": [
        "config"
      ]
    },
    {
      "cell_type": "markdown",
      "source": [
        "### Проверка метрик"
      ],
      "metadata": {
        "id": "oua_BoPQ-wkA"
      }
    },
    {
      "cell_type": "code",
      "source": [
        "data_dict['Amzb'] = data"
      ],
      "metadata": {
        "id": "0rKBIy7EabXm"
      },
      "execution_count": null,
      "outputs": []
    },
    {
      "cell_type": "code",
      "source": [
        "data"
      ],
      "metadata": {
        "colab": {
          "base_uri": "https://localhost:8080/",
          "height": 423
        },
        "id": "Xh_IoQtBTKZx",
        "outputId": "0cf9ea4a-bba3-4bb1-ee64-ae84414fec41"
      },
      "execution_count": null,
      "outputs": [
        {
          "output_type": "execute_result",
          "data": {
            "text/plain": [
              "        itemid  rating   Timestamp  userid\n",
              "0        15786       0  1272844800       0\n",
              "1         7841       0  1288569600       0\n",
              "2        16097       0  1297900800       0\n",
              "3        13818       1  1299974400       0\n",
              "4         7187       1  1300233600       0\n",
              "...        ...     ...         ...     ...\n",
              "109128   16611       0  1351382400    6259\n",
              "109129   16688       1  1351382400    6259\n",
              "109130   17063       1  1351382400    6259\n",
              "109131   17333       0  1351382400    6259\n",
              "109132   17688       0  1351382400    6259\n",
              "\n",
              "[109133 rows x 4 columns]"
            ],
            "text/html": [
              "\n",
              "  <div id=\"df-4264eb11-14c3-4a86-8817-7bd1e8f70548\" class=\"colab-df-container\">\n",
              "    <div>\n",
              "<style scoped>\n",
              "    .dataframe tbody tr th:only-of-type {\n",
              "        vertical-align: middle;\n",
              "    }\n",
              "\n",
              "    .dataframe tbody tr th {\n",
              "        vertical-align: top;\n",
              "    }\n",
              "\n",
              "    .dataframe thead th {\n",
              "        text-align: right;\n",
              "    }\n",
              "</style>\n",
              "<table border=\"1\" class=\"dataframe\">\n",
              "  <thead>\n",
              "    <tr style=\"text-align: right;\">\n",
              "      <th></th>\n",
              "      <th>itemid</th>\n",
              "      <th>rating</th>\n",
              "      <th>Timestamp</th>\n",
              "      <th>userid</th>\n",
              "    </tr>\n",
              "  </thead>\n",
              "  <tbody>\n",
              "    <tr>\n",
              "      <th>0</th>\n",
              "      <td>15786</td>\n",
              "      <td>0</td>\n",
              "      <td>1272844800</td>\n",
              "      <td>0</td>\n",
              "    </tr>\n",
              "    <tr>\n",
              "      <th>1</th>\n",
              "      <td>7841</td>\n",
              "      <td>0</td>\n",
              "      <td>1288569600</td>\n",
              "      <td>0</td>\n",
              "    </tr>\n",
              "    <tr>\n",
              "      <th>2</th>\n",
              "      <td>16097</td>\n",
              "      <td>0</td>\n",
              "      <td>1297900800</td>\n",
              "      <td>0</td>\n",
              "    </tr>\n",
              "    <tr>\n",
              "      <th>3</th>\n",
              "      <td>13818</td>\n",
              "      <td>1</td>\n",
              "      <td>1299974400</td>\n",
              "      <td>0</td>\n",
              "    </tr>\n",
              "    <tr>\n",
              "      <th>4</th>\n",
              "      <td>7187</td>\n",
              "      <td>1</td>\n",
              "      <td>1300233600</td>\n",
              "      <td>0</td>\n",
              "    </tr>\n",
              "    <tr>\n",
              "      <th>...</th>\n",
              "      <td>...</td>\n",
              "      <td>...</td>\n",
              "      <td>...</td>\n",
              "      <td>...</td>\n",
              "    </tr>\n",
              "    <tr>\n",
              "      <th>109128</th>\n",
              "      <td>16611</td>\n",
              "      <td>0</td>\n",
              "      <td>1351382400</td>\n",
              "      <td>6259</td>\n",
              "    </tr>\n",
              "    <tr>\n",
              "      <th>109129</th>\n",
              "      <td>16688</td>\n",
              "      <td>1</td>\n",
              "      <td>1351382400</td>\n",
              "      <td>6259</td>\n",
              "    </tr>\n",
              "    <tr>\n",
              "      <th>109130</th>\n",
              "      <td>17063</td>\n",
              "      <td>1</td>\n",
              "      <td>1351382400</td>\n",
              "      <td>6259</td>\n",
              "    </tr>\n",
              "    <tr>\n",
              "      <th>109131</th>\n",
              "      <td>17333</td>\n",
              "      <td>0</td>\n",
              "      <td>1351382400</td>\n",
              "      <td>6259</td>\n",
              "    </tr>\n",
              "    <tr>\n",
              "      <th>109132</th>\n",
              "      <td>17688</td>\n",
              "      <td>0</td>\n",
              "      <td>1351382400</td>\n",
              "      <td>6259</td>\n",
              "    </tr>\n",
              "  </tbody>\n",
              "</table>\n",
              "<p>109133 rows × 4 columns</p>\n",
              "</div>\n",
              "    <div class=\"colab-df-buttons\">\n",
              "\n",
              "  <div class=\"colab-df-container\">\n",
              "    <button class=\"colab-df-convert\" onclick=\"convertToInteractive('df-4264eb11-14c3-4a86-8817-7bd1e8f70548')\"\n",
              "            title=\"Convert this dataframe to an interactive table.\"\n",
              "            style=\"display:none;\">\n",
              "\n",
              "  <svg xmlns=\"http://www.w3.org/2000/svg\" height=\"24px\" viewBox=\"0 -960 960 960\">\n",
              "    <path d=\"M120-120v-720h720v720H120Zm60-500h600v-160H180v160Zm220 220h160v-160H400v160Zm0 220h160v-160H400v160ZM180-400h160v-160H180v160Zm440 0h160v-160H620v160ZM180-180h160v-160H180v160Zm440 0h160v-160H620v160Z\"/>\n",
              "  </svg>\n",
              "    </button>\n",
              "\n",
              "  <style>\n",
              "    .colab-df-container {\n",
              "      display:flex;\n",
              "      gap: 12px;\n",
              "    }\n",
              "\n",
              "    .colab-df-convert {\n",
              "      background-color: #E8F0FE;\n",
              "      border: none;\n",
              "      border-radius: 50%;\n",
              "      cursor: pointer;\n",
              "      display: none;\n",
              "      fill: #1967D2;\n",
              "      height: 32px;\n",
              "      padding: 0 0 0 0;\n",
              "      width: 32px;\n",
              "    }\n",
              "\n",
              "    .colab-df-convert:hover {\n",
              "      background-color: #E2EBFA;\n",
              "      box-shadow: 0px 1px 2px rgba(60, 64, 67, 0.3), 0px 1px 3px 1px rgba(60, 64, 67, 0.15);\n",
              "      fill: #174EA6;\n",
              "    }\n",
              "\n",
              "    .colab-df-buttons div {\n",
              "      margin-bottom: 4px;\n",
              "    }\n",
              "\n",
              "    [theme=dark] .colab-df-convert {\n",
              "      background-color: #3B4455;\n",
              "      fill: #D2E3FC;\n",
              "    }\n",
              "\n",
              "    [theme=dark] .colab-df-convert:hover {\n",
              "      background-color: #434B5C;\n",
              "      box-shadow: 0px 1px 3px 1px rgba(0, 0, 0, 0.15);\n",
              "      filter: drop-shadow(0px 1px 2px rgba(0, 0, 0, 0.3));\n",
              "      fill: #FFFFFF;\n",
              "    }\n",
              "  </style>\n",
              "\n",
              "    <script>\n",
              "      const buttonEl =\n",
              "        document.querySelector('#df-4264eb11-14c3-4a86-8817-7bd1e8f70548 button.colab-df-convert');\n",
              "      buttonEl.style.display =\n",
              "        google.colab.kernel.accessAllowed ? 'block' : 'none';\n",
              "\n",
              "      async function convertToInteractive(key) {\n",
              "        const element = document.querySelector('#df-4264eb11-14c3-4a86-8817-7bd1e8f70548');\n",
              "        const dataTable =\n",
              "          await google.colab.kernel.invokeFunction('convertToInteractive',\n",
              "                                                    [key], {});\n",
              "        if (!dataTable) return;\n",
              "\n",
              "        const docLinkHtml = 'Like what you see? Visit the ' +\n",
              "          '<a target=\"_blank\" href=https://colab.research.google.com/notebooks/data_table.ipynb>data table notebook</a>'\n",
              "          + ' to learn more about interactive tables.';\n",
              "        element.innerHTML = '';\n",
              "        dataTable['output_type'] = 'display_data';\n",
              "        await google.colab.output.renderOutput(dataTable, element);\n",
              "        const docLink = document.createElement('div');\n",
              "        docLink.innerHTML = docLinkHtml;\n",
              "        element.appendChild(docLink);\n",
              "      }\n",
              "    </script>\n",
              "  </div>\n",
              "\n",
              "\n",
              "<div id=\"df-ea96c91a-8648-4e4c-863d-23560917420c\">\n",
              "  <button class=\"colab-df-quickchart\" onclick=\"quickchart('df-ea96c91a-8648-4e4c-863d-23560917420c')\"\n",
              "            title=\"Suggest charts\"\n",
              "            style=\"display:none;\">\n",
              "\n",
              "<svg xmlns=\"http://www.w3.org/2000/svg\" height=\"24px\"viewBox=\"0 0 24 24\"\n",
              "     width=\"24px\">\n",
              "    <g>\n",
              "        <path d=\"M19 3H5c-1.1 0-2 .9-2 2v14c0 1.1.9 2 2 2h14c1.1 0 2-.9 2-2V5c0-1.1-.9-2-2-2zM9 17H7v-7h2v7zm4 0h-2V7h2v10zm4 0h-2v-4h2v4z\"/>\n",
              "    </g>\n",
              "</svg>\n",
              "  </button>\n",
              "\n",
              "<style>\n",
              "  .colab-df-quickchart {\n",
              "      --bg-color: #E8F0FE;\n",
              "      --fill-color: #1967D2;\n",
              "      --hover-bg-color: #E2EBFA;\n",
              "      --hover-fill-color: #174EA6;\n",
              "      --disabled-fill-color: #AAA;\n",
              "      --disabled-bg-color: #DDD;\n",
              "  }\n",
              "\n",
              "  [theme=dark] .colab-df-quickchart {\n",
              "      --bg-color: #3B4455;\n",
              "      --fill-color: #D2E3FC;\n",
              "      --hover-bg-color: #434B5C;\n",
              "      --hover-fill-color: #FFFFFF;\n",
              "      --disabled-bg-color: #3B4455;\n",
              "      --disabled-fill-color: #666;\n",
              "  }\n",
              "\n",
              "  .colab-df-quickchart {\n",
              "    background-color: var(--bg-color);\n",
              "    border: none;\n",
              "    border-radius: 50%;\n",
              "    cursor: pointer;\n",
              "    display: none;\n",
              "    fill: var(--fill-color);\n",
              "    height: 32px;\n",
              "    padding: 0;\n",
              "    width: 32px;\n",
              "  }\n",
              "\n",
              "  .colab-df-quickchart:hover {\n",
              "    background-color: var(--hover-bg-color);\n",
              "    box-shadow: 0 1px 2px rgba(60, 64, 67, 0.3), 0 1px 3px 1px rgba(60, 64, 67, 0.15);\n",
              "    fill: var(--button-hover-fill-color);\n",
              "  }\n",
              "\n",
              "  .colab-df-quickchart-complete:disabled,\n",
              "  .colab-df-quickchart-complete:disabled:hover {\n",
              "    background-color: var(--disabled-bg-color);\n",
              "    fill: var(--disabled-fill-color);\n",
              "    box-shadow: none;\n",
              "  }\n",
              "\n",
              "  .colab-df-spinner {\n",
              "    border: 2px solid var(--fill-color);\n",
              "    border-color: transparent;\n",
              "    border-bottom-color: var(--fill-color);\n",
              "    animation:\n",
              "      spin 1s steps(1) infinite;\n",
              "  }\n",
              "\n",
              "  @keyframes spin {\n",
              "    0% {\n",
              "      border-color: transparent;\n",
              "      border-bottom-color: var(--fill-color);\n",
              "      border-left-color: var(--fill-color);\n",
              "    }\n",
              "    20% {\n",
              "      border-color: transparent;\n",
              "      border-left-color: var(--fill-color);\n",
              "      border-top-color: var(--fill-color);\n",
              "    }\n",
              "    30% {\n",
              "      border-color: transparent;\n",
              "      border-left-color: var(--fill-color);\n",
              "      border-top-color: var(--fill-color);\n",
              "      border-right-color: var(--fill-color);\n",
              "    }\n",
              "    40% {\n",
              "      border-color: transparent;\n",
              "      border-right-color: var(--fill-color);\n",
              "      border-top-color: var(--fill-color);\n",
              "    }\n",
              "    60% {\n",
              "      border-color: transparent;\n",
              "      border-right-color: var(--fill-color);\n",
              "    }\n",
              "    80% {\n",
              "      border-color: transparent;\n",
              "      border-right-color: var(--fill-color);\n",
              "      border-bottom-color: var(--fill-color);\n",
              "    }\n",
              "    90% {\n",
              "      border-color: transparent;\n",
              "      border-bottom-color: var(--fill-color);\n",
              "    }\n",
              "  }\n",
              "</style>\n",
              "\n",
              "  <script>\n",
              "    async function quickchart(key) {\n",
              "      const quickchartButtonEl =\n",
              "        document.querySelector('#' + key + ' button');\n",
              "      quickchartButtonEl.disabled = true;  // To prevent multiple clicks.\n",
              "      quickchartButtonEl.classList.add('colab-df-spinner');\n",
              "      try {\n",
              "        const charts = await google.colab.kernel.invokeFunction(\n",
              "            'suggestCharts', [key], {});\n",
              "      } catch (error) {\n",
              "        console.error('Error during call to suggestCharts:', error);\n",
              "      }\n",
              "      quickchartButtonEl.classList.remove('colab-df-spinner');\n",
              "      quickchartButtonEl.classList.add('colab-df-quickchart-complete');\n",
              "    }\n",
              "    (() => {\n",
              "      let quickchartButtonEl =\n",
              "        document.querySelector('#df-ea96c91a-8648-4e4c-863d-23560917420c button');\n",
              "      quickchartButtonEl.style.display =\n",
              "        google.colab.kernel.accessAllowed ? 'block' : 'none';\n",
              "    })();\n",
              "  </script>\n",
              "</div>\n",
              "    </div>\n",
              "  </div>\n"
            ],
            "application/vnd.google.colaboratory.intrinsic+json": {
              "type": "dataframe",
              "variable_name": "data"
            }
          },
          "metadata": {},
          "execution_count": 57
        }
      ]
    },
    {
      "cell_type": "code",
      "source": [
        "data_models = prepare_data_model_last_rating_hold(lbl, *all_data, seed,custom_order='Timestamp' ) #вставить мою функцию препаре и свою олл дату\n",
        "\n",
        "model_last = HybridSVD(data_models)\n",
        "\n",
        "model_last.rank = 1000\n",
        "model_last.features_weight =0.9\n",
        "model_last.evaluate()"
      ],
      "metadata": {
        "id": "gMNbJe54-4hd",
        "colab": {
          "base_uri": "https://localhost:8080/"
        },
        "outputId": "7bf85bbb-9fba-4ac9-a52c-61135d0f3f4c"
      },
      "execution_count": null,
      "outputs": [
        {
          "output_type": "stream",
          "name": "stdout",
          "text": [
            "HybridSVD model is not ready. Rebuilding.\n",
            "Performing sparse Cholesky decomposition for itemid similarity\n",
            "Cholesky decomposition computation time: 0.004s\n",
            "Performing sparse Cholesky decomposition for userid similarity\n"
          ]
        },
        {
          "output_type": "stream",
          "name": "stderr",
          "text": [
            "/content/hybrids.py:121: CholmodTypeConversionWarning: converting matrix of class csr_matrix to CSC format\n",
            "  self._cholesky[entity] = CholeskyFactor(cholesky_decomp(entity_similarity, beta=beta))\n"
          ]
        },
        {
          "output_type": "stream",
          "name": "stdout",
          "text": [
            "Cholesky decomposition computation time: 2.279s\n",
            "HybridSVD training time: 04m:60s\n",
            "Building itemid projector for HybridSVD\n",
            "    Solving triangular system: 0.426s\n",
            "    Applying Cholesky factor: 0.926s\n"
          ]
        },
        {
          "output_type": "execute_result",
          "data": {
            "text/plain": [
              "[Relevance(hr=0.15423901940755874),\n",
              " Ranking(arhr=0.07953761802076409, mrr=0.07953761802076409),\n",
              " Experience(coverage=0.29416342412451363),\n",
              " Hits(true_positive=906, false_positive=57834, true_negative=None, false_negative=4968)]"
            ]
          },
          "metadata": {},
          "execution_count": 34
        }
      ]
    }
  ],
  "metadata": {
    "colab": {
      "provenance": [],
      "collapsed_sections": [
        "ayYhFh9qfiS8"
      ]
    },
    "kernelspec": {
      "display_name": "Python 3",
      "name": "python3"
    },
    "language_info": {
      "codemirror_mode": {
        "name": "ipython",
        "version": 3
      },
      "file_extension": ".py",
      "mimetype": "text/x-python",
      "name": "python",
      "nbconvert_exporter": "python",
      "pygments_lexer": "ipython3",
      "version": "3.6.7"
    }
  },
  "nbformat": 4,
  "nbformat_minor": 0
}